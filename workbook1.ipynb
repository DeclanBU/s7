{
 "cells": [
  {
   "cell_type": "code",
   "execution_count": 1,
   "metadata": {
    "collapsed": true
   },
   "outputs": [],
   "source": [
    "%%bash\n",
    "cat << _EOF_ > whereami.sh\n",
    "#!/bin/bash\n",
    "\n",
    "echo \"you are in pwd\"\n",
    "_EOF_"
   ]
  },
  {
   "cell_type": "code",
   "execution_count": 2,
   "metadata": {
    "collapsed": false
   },
   "outputs": [
    {
     "name": "stderr",
     "output_type": "stream",
     "text": [
      "cat: whereami: No such file or directory\n"
     ]
    }
   ],
   "source": [
    "%%bash\n",
    "cat whereami"
   ]
  },
  {
   "cell_type": "code",
   "execution_count": 3,
   "metadata": {
    "collapsed": false
   },
   "outputs": [
    {
     "name": "stderr",
     "output_type": "stream",
     "text": [
      "UsageError: %%bash is a cell magic, but the cell body is empty."
     ]
    }
   ],
   "source": [
    "%%bash whereami.sh"
   ]
  },
  {
   "cell_type": "code",
   "execution_count": 4,
   "metadata": {
    "collapsed": false
   },
   "outputs": [
    {
     "name": "stdout",
     "output_type": "stream",
     "text": [
      "#!/bin/bash\n",
      "\n",
      "echo \"you are in pwd\"\n"
     ]
    }
   ],
   "source": [
    "%%bash\n",
    "cat whereami.sh"
   ]
  },
  {
   "cell_type": "code",
   "execution_count": 5,
   "metadata": {
    "collapsed": true
   },
   "outputs": [],
   "source": [
    "%%bash\n",
    "chmod u+x whereami.sh"
   ]
  },
  {
   "cell_type": "code",
   "execution_count": 6,
   "metadata": {
    "collapsed": false
   },
   "outputs": [
    {
     "name": "stdout",
     "output_type": "stream",
     "text": [
      " Volume in drive C has no label.\n",
      " Volume Serial Number is 72AC-6DCC\n",
      "\n",
      " Directory of C:\\cygwin64\\home\\t00189550\n",
      "\n"
     ]
    },
    {
     "name": "stderr",
     "output_type": "stream",
     "text": [
      "File Not Found\n"
     ]
    }
   ],
   "source": [
    "ls-l"
   ]
  },
  {
   "cell_type": "code",
   "execution_count": 7,
   "metadata": {
    "collapsed": false
   },
   "outputs": [
    {
     "name": "stderr",
     "output_type": "stream",
     "text": [
      "bash: line 1: ls-l: command not found\n"
     ]
    }
   ],
   "source": [
    "%%bash\n",
    "ls-l"
   ]
  },
  {
   "cell_type": "code",
   "execution_count": 8,
   "metadata": {
    "collapsed": false
   },
   "outputs": [
    {
     "name": "stdout",
     "output_type": "stream",
     "text": [
      "total 18\n",
      "-rwxr-xr-x  1 Administrators Domain Users 12470 Feb 10 11:33 01_bash_setting_permissions.ipynb\n",
      "drwxr-xr-x+ 1 t00189550      Domain Users     0 Feb 10 11:42 s7\n",
      "-rwxr--r--  1 t00189550      Domain Users    35 Feb 10 11:46 whereami.sh\n",
      "-rwxr-xr-x  1 t00189550      Domain Users   600 Feb 10 11:45 workbook1.ipynb\n"
     ]
    }
   ],
   "source": [
    "%%bash\n",
    "ls -l"
   ]
  },
  {
   "cell_type": "code",
   "execution_count": 9,
   "metadata": {
    "collapsed": false
   },
   "outputs": [
    {
     "name": "stdout",
     "output_type": "stream",
     "text": [
      "-rwxr--r-- 1 t00189550 Domain Users 35 Feb 10 11:46 whereami.sh\n"
     ]
    }
   ],
   "source": [
    "%%bash\n",
    "ls -l whereami.sh"
   ]
  },
  {
   "cell_type": "code",
   "execution_count": 10,
   "metadata": {
    "collapsed": false
   },
   "outputs": [
    {
     "ename": "SyntaxError",
     "evalue": "invalid syntax (<ipython-input-10-640bd4e364c9>, line 1)",
     "output_type": "error",
     "traceback": [
      "\u001b[1;36m  File \u001b[1;32m\"<ipython-input-10-640bd4e364c9>\"\u001b[1;36m, line \u001b[1;32m1\u001b[0m\n\u001b[1;33m    ./whereami.sh\u001b[0m\n\u001b[1;37m    ^\u001b[0m\n\u001b[1;31mSyntaxError\u001b[0m\u001b[1;31m:\u001b[0m invalid syntax\n"
     ]
    }
   ],
   "source": [
    "./whereami.sh"
   ]
  },
  {
   "cell_type": "code",
   "execution_count": 11,
   "metadata": {
    "collapsed": false
   },
   "outputs": [
    {
     "name": "stdout",
     "output_type": "stream",
     "text": [
      "you are in pwd\n"
     ]
    }
   ],
   "source": [
    "%%bash\n",
    "./whereami.sh"
   ]
  },
  {
   "cell_type": "code",
   "execution_count": 12,
   "metadata": {
    "collapsed": true
   },
   "outputs": [],
   "source": [
    "%%bash\n",
    "cat << _EOF_ > whereami.sh\n",
    "#!/bin/bash\n",
    "\n",
    "pwd\n",
    "_EOF_"
   ]
  },
  {
   "cell_type": "code",
   "execution_count": 13,
   "metadata": {
    "collapsed": false
   },
   "outputs": [
    {
     "name": "stdout",
     "output_type": "stream",
     "text": [
      "#!/bin/bash\n",
      "\n",
      "pwd\n",
      "/home/t00189550\n"
     ]
    }
   ],
   "source": [
    "%%bash\n",
    "cat whereami.sh\n",
    "./whereami.sh"
   ]
  },
  {
   "cell_type": "code",
   "execution_count": 14,
   "metadata": {
    "collapsed": false
   },
   "outputs": [
    {
     "name": "stdout",
     "output_type": "stream",
     "text": [
      "/home/t00189550\n"
     ]
    }
   ],
   "source": [
    "%%bash\n",
    "pwd"
   ]
  },
  {
   "cell_type": "code",
   "execution_count": 15,
   "metadata": {
    "collapsed": false
   },
   "outputs": [
    {
     "name": "stdout",
     "output_type": "stream",
     "text": [
      "you are in /home/t00189550\n"
     ]
    }
   ],
   "source": [
    "%%bash\n",
    "echo \"you are in $(pwd)\""
   ]
  },
  {
   "cell_type": "code",
   "execution_count": 16,
   "metadata": {
    "collapsed": false
   },
   "outputs": [
    {
     "name": "stdout",
     "output_type": "stream",
     "text": [
      "01_bash_setting_permissions.ipynb\n",
      "s7\n",
      "whereami.sh\n",
      "workbook1.ipynb\n"
     ]
    }
   ],
   "source": [
    "%%bash\n",
    "ls"
   ]
  },
  {
   "cell_type": "code",
   "execution_count": 17,
   "metadata": {
    "collapsed": false
   },
   "outputs": [
    {
     "name": "stdout",
     "output_type": "stream",
     "text": [
      "ls\n"
     ]
    }
   ],
   "source": [
    "%%bash\n",
    "echo \"ls\""
   ]
  },
  {
   "cell_type": "code",
   "execution_count": 18,
   "metadata": {
    "collapsed": false
   },
   "outputs": [
    {
     "name": "stdout",
     "output_type": "stream",
     "text": [
      "ls\n"
     ]
    }
   ],
   "source": [
    "echo ls"
   ]
  },
  {
   "cell_type": "code",
   "execution_count": 19,
   "metadata": {
    "collapsed": false
   },
   "outputs": [
    {
     "name": "stdout",
     "output_type": "stream",
     "text": [
      "ls\n"
     ]
    }
   ],
   "source": [
    "%%bash\n",
    "echo ls"
   ]
  },
  {
   "cell_type": "code",
   "execution_count": 20,
   "metadata": {
    "collapsed": false
   },
   "outputs": [
    {
     "name": "stdout",
     "output_type": "stream",
     "text": [
      "Filesystem         1K-blocks       Used     Available Use% Mounted on\n",
      "C:/cygwin64        934570312  496178724     438391588  54% /\n",
      "K:                1073753084  480890652     592862432  45% /cygdrive/k\n",
      "M:                2959300616 1875025124    1084275492  64% /cygdrive/m\n",
      "N:                 100584316   86867520      13716796  87% /cygdrive/n\n",
      "X:             1072668082176          0 1072668082176   0% /cygdrive/x\n"
     ]
    }
   ],
   "source": [
    "%%bash\n",
    "df"
   ]
  },
  {
   "cell_type": "code",
   "execution_count": 21,
   "metadata": {
    "collapsed": false
   },
   "outputs": [
    {
     "name": "stdout",
     "output_type": "stream",
     "text": [
      "\n"
     ]
    }
   ],
   "source": [
    "%%bash\n",
    "echo \"$ls\""
   ]
  },
  {
   "cell_type": "code",
   "execution_count": 23,
   "metadata": {
    "collapsed": false
   },
   "outputs": [
    {
     "name": "stdout",
     "output_type": "stream",
     "text": [
      "you are in /home/t00189550\n"
     ]
    }
   ],
   "source": [
    "%%bash\n",
    "cat << _EOF_ > whereami.sh\n",
    "#!/bin/bash\n",
    "#i use command expansion\n",
    "echo \"you are in $(pwd)\"\n",
    "_EOF_\n",
    "./whereami.sh"
   ]
  },
  {
   "cell_type": "code",
   "execution_count": 24,
   "metadata": {
    "collapsed": false
   },
   "outputs": [
    {
     "name": "stderr",
     "output_type": "stream",
     "text": [
      "UsageError: %%bash is a cell magic, but the cell body is empty."
     ]
    }
   ],
   "source": [
    "%%bash ./whereami.ssh"
   ]
  },
  {
   "cell_type": "code",
   "execution_count": 25,
   "metadata": {
    "collapsed": false
   },
   "outputs": [
    {
     "name": "stdout",
     "output_type": "stream",
     "text": [
      "you are in /home/t00189550\n",
      "total 29\n",
      "-rwxr-xr-x  1 Administrators Domain Users 12470 Feb 10 11:33 01_bash_setting_permissions.ipynb\n",
      "drwxr-xr-x+ 1 t00189550      Domain Users     0 Feb 10 11:42 s7\n",
      "-rwxr--r--  1 t00189550      Domain Users    47 Feb 10 12:03 whereami.sh\n",
      "-rwxr-xr-x  1 t00189550      Domain Users  8943 Feb 10 12:04 workbook1.ipynb\n"
     ]
    }
   ],
   "source": [
    "%%bash\n",
    "cat << _EOF_ > whereami.sh\n",
    "#!/bin/bash\n",
    "#i use command expansion\n",
    "echo \"you are in $(pwd)\"\n",
    "\n",
    "echo \"$(ls -l)\"\n",
    "\n",
    "\n",
    "_EOF_\n",
    "\n",
    "./whereami.sh"
   ]
  },
  {
   "cell_type": "code",
   "execution_count": null,
   "metadata": {
    "collapsed": true
   },
   "outputs": [],
   "source": []
  }
 ],
 "metadata": {
  "kernelspec": {
   "display_name": "Python 3",
   "language": "python",
   "name": "python3"
  },
  "language_info": {
   "codemirror_mode": {
    "name": "ipython",
    "version": 3
   },
   "file_extension": ".py",
   "mimetype": "text/x-python",
   "name": "python",
   "nbconvert_exporter": "python",
   "pygments_lexer": "ipython3",
   "version": "3.5.1"
  }
 },
 "nbformat": 4,
 "nbformat_minor": 0
}
